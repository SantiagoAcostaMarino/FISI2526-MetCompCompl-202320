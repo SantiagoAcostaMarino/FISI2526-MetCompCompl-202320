{
 "cells": [
  {
   "cell_type": "code",
   "execution_count": 36,
   "metadata": {},
   "outputs": [],
   "source": [
    "import numpy as np\n",
    "import matplotlib.pyplot as plt\n",
    "from mineralral import Mineral "
   ]
  },
  {
   "cell_type": "code",
   "execution_count": 37,
   "metadata": {},
   "outputs": [
    {
     "ename": "TypeError",
     "evalue": "unsupported operand type(s) for +: 'float' and 'str'",
     "output_type": "error",
     "traceback": [
      "\u001b[1;31m---------------------------------------------------------------------------\u001b[0m",
      "\u001b[1;31mTypeError\u001b[0m                                 Traceback (most recent call last)",
      "Cell \u001b[1;32mIn[37], line 25\u001b[0m\n\u001b[0;32m     23\u001b[0m     \u001b[39mprint\u001b[39m (densidad_total)\n\u001b[0;32m     24\u001b[0m a\u001b[39m=\u001b[39mcrear_objetos()\n\u001b[1;32m---> 25\u001b[0m calcular_densidad_promedio(a)\n",
      "Cell \u001b[1;32mIn[37], line 22\u001b[0m, in \u001b[0;36mcalcular_densidad_promedio\u001b[1;34m(minerales_array)\u001b[0m\n\u001b[0;32m     20\u001b[0m densidad_total \u001b[39m=\u001b[39m \u001b[39m0\u001b[39m\n\u001b[0;32m     21\u001b[0m \u001b[39mfor\u001b[39;00m mineral \u001b[39min\u001b[39;00m minerales_array:\n\u001b[1;32m---> 22\u001b[0m     densidad_total\u001b[39m+\u001b[39m\u001b[39m=\u001b[39m mineral\u001b[39m.\u001b[39;49mcalcular_densidad_()\n\u001b[0;32m     23\u001b[0m \u001b[39mprint\u001b[39m (densidad_total)\n",
      "File \u001b[1;32mc:\\Users\\Computador Campos\\.vscode\\Repositorios\\FISI2526-MetCompCompl-202320-Acosta---Campos\\Taller_1\\parte2\\mineralral.py:34\u001b[0m, in \u001b[0;36mMineral.calcular_densidad_\u001b[1;34m(self)\u001b[0m\n\u001b[0;32m     32\u001b[0m \u001b[39mdef\u001b[39;00m \u001b[39mcalcular_densidad_\u001b[39m(\u001b[39mself\u001b[39m):\n\u001b[0;32m     33\u001b[0m     densidad\u001b[39m=\u001b[39m \u001b[39mfloat\u001b[39m(\u001b[39mself\u001b[39m\u001b[39m.\u001b[39mspecific_gravity)\u001b[39m*\u001b[39m\u001b[39m997\u001b[39m\n\u001b[1;32m---> 34\u001b[0m     \u001b[39mreturn\u001b[39;00m densidad\u001b[39m+\u001b[39;49m\u001b[39m\"\u001b[39;49m\u001b[39mkg/m^3\u001b[39;49m\u001b[39m\"\u001b[39;49m\n",
      "\u001b[1;31mTypeError\u001b[0m: unsupported operand type(s) for +: 'float' and 'str'"
     ]
    }
   ],
   "source": [
    "def crear_objetos():\n",
    "    with open('minerales.txt', 'r', encoding='utf-8' ) as fichero:\n",
    "        minerales =[]  # Crear un arreglo vacío\n",
    "        lineas = fichero.readlines()[1:18]\n",
    "        for linea in lineas:\n",
    "            campos = linea.strip().split('\\t')  # Dividir la línea en campos\n",
    "            material = Mineral(*campos)  # Crear un objeto Material con los campos\n",
    "            minerales.append(material)\n",
    "            materiales_array = np.array(minerales)\n",
    "    return materiales_array\n",
    "\n",
    "def contar_silicatos_en_array(minerales_array):\n",
    "    contador_silicatos = 0\n",
    "    for mineral in minerales_array:\n",
    "        if mineral.silicato():\n",
    "            contador_silicatos += 1\n",
    "    return contador_silicatos\n",
    "\n",
    "def calcular_densidad_promedio(minerales_array):\n",
    "    densidad_total = 0\n",
    "    for mineral in minerales_array:\n",
    "        densidad_total+= mineral.calcular_densidad_()\n",
    "    print (densidad_total)\n",
    "a=crear_objetos()\n",
    "calcular_densidad_promedio(a)\n",
    "\n",
    "\n",
    "\n",
    "\n",
    "\n"
   ]
  }
 ],
 "metadata": {
  "kernelspec": {
   "display_name": "base",
   "language": "python",
   "name": "python3"
  },
  "language_info": {
   "codemirror_mode": {
    "name": "ipython",
    "version": 3
   },
   "file_extension": ".py",
   "mimetype": "text/x-python",
   "name": "python",
   "nbconvert_exporter": "python",
   "pygments_lexer": "ipython3",
   "version": "3.11.4"
  },
  "orig_nbformat": 4
 },
 "nbformat": 4,
 "nbformat_minor": 2
}
