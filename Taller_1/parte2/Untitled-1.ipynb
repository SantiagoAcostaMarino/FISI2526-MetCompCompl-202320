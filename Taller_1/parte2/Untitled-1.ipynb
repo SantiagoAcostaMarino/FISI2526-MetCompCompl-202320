{
 "cells": [
  {
   "cell_type": "code",
   "execution_count": 1,
   "metadata": {},
   "outputs": [],
   "source": [
    "import numpy as np\n",
    "import matplotlib.pyplot as plt\n",
    "from mineral import Mineral "
   ]
  },
  {
   "cell_type": "code",
   "execution_count": 6,
   "metadata": {},
   "outputs": [
    {
     "name": "stdout",
     "output_type": "stream",
     "text": [
      "3492.43\n"
     ]
    }
   ],
   "source": [
    "def crear_objetos():\n",
    "    with open('minerales.txt', 'r', encoding='utf-8' ) as fichero:\n",
    "        minerales =[]  # Crear un arreglo vacío\n",
    "        lineas = fichero.readlines()[1:18]\n",
    "        for linea in lineas:\n",
    "            campos = linea.strip().split('\\t')  # Dividir la línea en campos\n",
    "            material = Mineral(*campos)  # Crear un objeto Material con los campos\n",
    "            minerales.append(material)\n",
    "            materiales_array = np.array(minerales)\n",
    "    return materiales_array\n",
    "\n",
    "def contar_silicatos_en_array(minerales_array):\n",
    "    contador_silicatos = 0\n",
    "    for mineral in minerales_array:\n",
    "        if mineral.silicato():\n",
    "            contador_silicatos += 1\n",
    "    return contador_silicatos\n",
    "\n",
    "def calcular_densidad_promedio(minerales_array):\n",
    "    densidad_total = 0\n",
    "    for mineral in minerales_array:\n",
    "        densidad_total+= mineral.calcular_densidad_()\n",
    "        densidad_promedio=densidad_total/len(minerales_array)\n",
    "    print (round(densidad_promedio,2))\n",
    "\n"
   ]
  }
 ],
 "metadata": {
  "kernelspec": {
   "display_name": "base",
   "language": "python",
   "name": "python3"
  },
  "language_info": {
   "codemirror_mode": {
    "name": "ipython",
    "version": 3
   },
   "file_extension": ".py",
   "mimetype": "text/x-python",
   "name": "python",
   "nbconvert_exporter": "python",
   "pygments_lexer": "ipython3",
   "version": "3.11.4"
  },
  "orig_nbformat": 4
 },
 "nbformat": 4,
 "nbformat_minor": 2
}
