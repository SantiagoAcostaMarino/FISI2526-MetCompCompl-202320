{
 "cells": [
  {
   "cell_type": "code",
   "execution_count": 3,
   "metadata": {},
   "outputs": [],
   "source": [
    "import numpy as np\n",
    "import matplotlib.pyplot as plt\n",
    "from mineral   import Mineral\n"
   ]
  },
  {
   "cell_type": "code",
   "execution_count": 40,
   "metadata": {},
   "outputs": [],
   "source": [
    "\n",
    "class ExpansionTermicaMineral(Mineral):\n",
    "    def __init__(self,archivo):\n",
    "        self.archivo=archivo\n",
    "    def carga_archivo(self):\n",
    "        with open (self.archivo,'r',encoding='utf-8') as fichero:\n",
    "            Temp=[]\n",
    "            Vol=[]\n",
    "            lineas = fichero.readlines()[1:]\n",
    "            for linea in lineas:\n",
    "                Temp.append(linea.strip().split(',')[0])\n",
    "                Vol.append(linea.strip().split(',')[1])   \n",
    "        Temp_array=np.array(Temp)\n",
    "        Vol_array=np.array(Vol)\n",
    "        return [Temp_array,Vol_array]\n",
    "    def alpha(self):\n",
    "        h=0.001\n",
    "        datos_D=ExpansionTermicaMineral.carga_archivo(self)\n",
    "        \n",
    "        alphas=np.array([])\n",
    "        for i in datos_D[1]:\n",
    "            derivadacentral= ((i+h)-(i-h))/(2*h)\n",
    "            \n",
    "        \n",
    "    \n",
    "        \n",
    "        \n",
    "    \n",
    "\n",
    "    "
   ]
  },
  {
   "cell_type": "code",
   "execution_count": 36,
   "metadata": {},
   "outputs": [
    {
     "data": {
      "text/plain": [
       "list"
      ]
     },
     "execution_count": 36,
     "metadata": {},
     "output_type": "execute_result"
    }
   ],
   "source": [
    "a= ExpansionTermicaMineral(\"graphite_mceligot_2016.csv\")\n",
    " \n",
    "type(ExpansionTermicaMineral.carga_archivo(a))\n"
   ]
  }
 ],
 "metadata": {
  "kernelspec": {
   "display_name": "base",
   "language": "python",
   "name": "python3"
  },
  "language_info": {
   "codemirror_mode": {
    "name": "ipython",
    "version": 3
   },
   "file_extension": ".py",
   "mimetype": "text/x-python",
   "name": "python",
   "nbconvert_exporter": "python",
   "pygments_lexer": "ipython3",
   "version": "3.11.4"
  },
  "orig_nbformat": 4
 },
 "nbformat": 4,
 "nbformat_minor": 2
}
