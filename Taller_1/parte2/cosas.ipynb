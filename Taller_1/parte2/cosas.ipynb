{
 "cells": [
  {
   "cell_type": "markdown",
   "metadata": {},
   "source": [
    "Parte 2 taller"
   ]
  },
  {
   "cell_type": "code",
   "execution_count": 2,
   "metadata": {},
   "outputs": [],
   "source": [
    "import numpy as np\n",
    "import matplotlib.pyplot as plt"
   ]
  },
  {
   "cell_type": "markdown",
   "metadata": {},
   "source": [
    "CLASE MINERAL"
   ]
  },
  {
   "cell_type": "code",
   "execution_count": 14,
   "metadata": {},
   "outputs": [],
   "source": [
    "class Mineral:\n",
    "    def init(self,nombre,dureza,ilustre,rompimiento_por_fractura,color,composicion,sistema_cristalino,specific_gravity):\n",
    "        self.nombre=nombre\n",
    "        self.dureza=dureza\n",
    "        self.ilustre=ilustre\n",
    "        self.rompimiento_por_fractura=rompimiento_por_fractura\n",
    "        self.color=color\n",
    "        self.composicion=composicion\n",
    "        self.sistema_cristalino=sistema_cristalino\n",
    "        self.specific_gravity=specific_gravity\n",
    "    \n",
    "    def silicato(self):\n",
    "        if \"Si\" in self.composicion and \"O\" in self.composicion:\n",
    "            silicato=True\n",
    "        else:\n",
    "            silicato=False\n",
    "        \n",
    "        return silicato\n",
    "    def calcular_densidad_(self):\n",
    "        densidad= float(self.specific_gravity)*997\n",
    "        return densidad+\"kg/m^3\"\n",
    "    def mostrar_color(self):\n",
    "        x = []\n",
    "        y = []\n",
    "\n",
    "        # Crear una figura y un eje\n",
    "        fig, ax = plt.subplots()\n",
    "\n",
    "        # Establecer el color de fondo\n",
    "        ax.set_facecolor(self.color)\n",
    "        ax.set_title('Color más frecuente de'+self.nombre)\n",
    "        plt.show()\n",
    "    def impresion_(self):\n",
    "        dureza=self.dureza\n",
    "        if self.rompimiento_por_fractura==False:\n",
    "            rompimiento=\"Escisión\"\n",
    "        else:\n",
    "            rompimiento=\"Fractura\"\n",
    "        organizacion=self.sistema_cristalino\n",
    "        print(dureza,rompimiento,rompimiento)\n",
    "    \n",
    "    \n",
    "\n",
    "\n",
    "        "
   ]
  },
  {
   "cell_type": "code",
   "execution_count": 18,
   "metadata": {},
   "outputs": [
    {
     "name": "stderr",
     "output_type": "stream",
     "text": [
      "No handles with labels found to put in legend.\n"
     ]
    },
    {
     "data": {
      "image/png": "[encoded data removed]",
      "text/plain": [
       "<Figure size 432x288 with 1 Axes>"
      ]
     },
     "metadata": {
      "needs_background": "light"
     },
     "output_type": "display_data"
    }
   ],
   "source": [
    "def create_colored_plot(background_color):\n",
    "    # Crear datos de ejemplo\n",
    "    x = []\n",
    "    y = []\n",
    "\n",
    "    # Crear una figura y un eje\n",
    "    fig, ax = plt.subplots()\n",
    "\n",
    "    # Establecer el color de fondo\n",
    "    ax.set_facecolor(background_color)\n",
    "\n",
    "    # Agregar datos al gráfico\n",
    "    \n",
    "\n",
    "    # Agregar etiquetas y título\n",
    "\n",
    "    ax.set_title('Gráfico con Fondo de Color')\n",
    "\n",
    "    # Agregar leyenda\n",
    "    ax.legend()\n",
    "\n",
    "    # Mostrar el gráfico\n",
    "    plt.show()\n",
    "create_colored_plot(\"#E8DE35\")"
   ]
  },
  {
   "cell_type": "code",
   "execution_count": null,
   "metadata": {},
   "outputs": [],
   "source": []
  }
 ],
 "metadata": {
  "kernelspec": {
   "display_name": "base",
   "language": "python",
   "name": "python3"
  },
  "language_info": {
   "codemirror_mode": {
    "name": "ipython",
    "version": 3
   },
   "file_extension": ".py",
   "mimetype": "text/x-python",
   "name": "python",
   "nbconvert_exporter": "python",
   "pygments_lexer": "ipython3",
   "version": "3.9.7"
  },
  "orig_nbformat": 4
 },
 "nbformat": 4,
 "nbformat_minor": 2
}
