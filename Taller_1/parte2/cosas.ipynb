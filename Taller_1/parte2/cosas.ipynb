{
 "cells": [
  {
   "cell_type": "markdown",
   "metadata": {},
   "source": [
    "Parte 2 taller"
   ]
  },
  {
   "cell_type": "markdown",
   "metadata": {},
   "source": [
    "CLASE MINERAL"
   ]
  },
  {
   "cell_type": "code",
   "execution_count": null,
   "metadata": {},
   "outputs": [],
   "source": [
    "class Mineral:\n",
    "    def _init(self,nombre,dureza,ilustre,rompimiento_por_fractura,color,composicion,sistema_cristalino,specific_gravity):\n",
    "        self.nombre=nombre\n",
    "        self.dureza=dureza\n",
    "        self.ilustre=ilustre\n",
    "        self.rompimiento_por_fractura=rompimiento_por_fractura\n",
    "        self.color=color\n",
    "        self.composicion=composicion\n",
    "        self.sistema_cristalino=sistema_cristalino\n",
    "        self.specific_gravity=specific_gravity\n",
    "    \n",
    "    def prueba():\n",
    "        return none\n",
    "        "
   ]
  }
 ],
 "metadata": {
  "kernelspec": {
   "display_name": "base",
   "language": "python",
   "name": "python3"
  },
  "language_info": {
   "name": "python",
   "version": "3.9.7"
  },
  "orig_nbformat": 4
 },
 "nbformat": 4,
 "nbformat_minor": 2
}
