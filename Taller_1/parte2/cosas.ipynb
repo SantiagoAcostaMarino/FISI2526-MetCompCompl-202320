{
 "cells": [
  {
   "cell_type": "markdown",
   "metadata": {},
   "source": [
    "Parte 2 taller"
   ]
  },
  {
   "cell_type": "code",
   "execution_count": 1,
   "metadata": {},
   "outputs": [],
   "source": [
    "import numpy as np\n",
    "import matplotlib.pyplot as plt"
   ]
  },
  {
   "cell_type": "markdown",
   "metadata": {},
   "source": [
    "CLASE MINERAL"
   ]
  },
  {
   "cell_type": "code",
   "execution_count": 2,
   "metadata": {},
   "outputs": [],
   "source": [
    "class Mineral:\n",
    "    def __init__(self, nombre, dureza, rompimiento_por_fractura, color, composicion, lustre, specific_gravity, sistema_cristalino):\n",
    "        self.nombre = nombre\n",
    "        self.dureza = dureza\n",
    "        self.rompimiento_por_fractura = rompimiento_por_fractura\n",
    "        self.color = color\n",
    "        self.composicion = composicion\n",
    "        self.lustre = lustre\n",
    "        self.specific_gravity = specific_gravity\n",
    "        self.sistema_cristalino = sistema_cristalino\n",
    "    \n",
    "    def silicato(self):\n",
    "        if \"Si\" in self.composicion and \"O\" in self.composicion:\n",
    "            silicato=True\n",
    "        else:\n",
    "            silicato=False\n",
    "        \n",
    "        return silicato\n",
    "    def calcular_densidad_(self):\n",
    "        densidad= float(self.specific_gravity)*997\n",
    "        return densidad+\"kg/m^3\"\n",
    "    def mostrar_color(self):\n",
    "       \n",
    "\n",
    "     # Crear una figura y un eje\n",
    "        fig, ax = plt.subplots()\n",
    "\n",
    "        # Establecer el color de fondo\n",
    "        ax.set_facecolor(self.color)\n",
    "        ax.set_title('Color más frecuente de'+self.nombre)\n",
    "        plt.show()\n",
    "    def impresion_(self):\n",
    "        if self.rompimiento_por_fractura==False:\n",
    "            rompimiento=\"Escisión\"\n",
    "        else:\n",
    "            rompimiento=\"Fractura\"\n",
    "        print(f\"{self.nombre}tiene dureza de {self.dureza},tipo de rompimiento de {rompimiento},y tiene sistema de organización{self.sistema_cristalino}\")\n",
    "        \n",
    "    \n",
    "    \n",
    "\n",
    "\n",
    "        "
   ]
  },
  {
   "cell_type": "code",
   "execution_count": null,
   "metadata": {},
   "outputs": [],
   "source": [
    "        "
   ]
  },
  {
   "cell_type": "code",
   "execution_count": null,
   "metadata": {},
   "outputs": [],
   "source": []
  }
 ],
 "metadata": {
  "kernelspec": {
   "display_name": "base",
   "language": "python",
   "name": "python3"
  },
  "language_info": {
   "codemirror_mode": {
    "name": "ipython",
    "version": 3
   },
   "file_extension": ".py",
   "mimetype": "text/x-python",
   "name": "python",
   "nbconvert_exporter": "python",
   "pygments_lexer": "ipython3",
   "version": "3.11.4"
  },
  "orig_nbformat": 4
 },
 "nbformat": 4,
 "nbformat_minor": 2
}
