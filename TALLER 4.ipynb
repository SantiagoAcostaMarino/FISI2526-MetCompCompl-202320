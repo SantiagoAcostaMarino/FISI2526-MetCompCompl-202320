{
 "cells": [
  {
   "cell_type": "markdown",
   "metadata": {},
   "source": [
    "Calculo de probabilidad"
   ]
  },
  {
   "cell_type": "markdown",
   "metadata": {},
   "source": [
    "1)Se reparten cartas, una a la vez, de una baraja de 52 cartas."
   ]
  },
  {
   "cell_type": "code",
   "execution_count": 50,
   "metadata": {},
   "outputs": [],
   "source": [
    "Cartas=52\n",
    "Espadas=13\n"
   ]
  },
  {
   "cell_type": "markdown",
   "metadata": {},
   "source": []
  },
  {
   "cell_type": "markdown",
   "metadata": {},
   "source": [
    "a) Si las primeras 2 cartas son espadas, ¿cu´al es la probabilidad de que las siguientes 3 cartas tambi´en\n",
    "sean espadas?\n"
   ]
  },
  {
   "cell_type": "code",
   "execution_count": 51,
   "metadata": {},
   "outputs": [
    {
     "name": "stdout",
     "output_type": "stream",
     "text": [
      "0.008418367346938776\n"
     ]
    }
   ],
   "source": [
    "Cartas=52\n",
    "Espadas=13\n",
    "Cartas-=2\n",
    "Espadas-=2\n",
    "veces=3\n",
    "i=1\n",
    "prob=1\n",
    "while i<=veces:\n",
    "    prob=prob*Espadas/Cartas\n",
    "    Espadas-=1\n",
    "    Cartas-=1\n",
    "    i+=1\n",
    "print(prob)"
   ]
  },
  {
   "cell_type": "markdown",
   "metadata": {},
   "source": [
    "b) Si las primeras 3 cartas son todas de espadas, ¿cu´al es la probabilidad de que las 2 cartas siguientes\n",
    "sean tambi´en espadas?\n"
   ]
  },
  {
   "cell_type": "code",
   "execution_count": 52,
   "metadata": {},
   "outputs": [
    {
     "name": "stdout",
     "output_type": "stream",
     "text": [
      "0.038\n"
     ]
    }
   ],
   "source": [
    "Cartas=52\n",
    "Espadas=13\n",
    "Cartas-=3\n",
    "Espadas-=3\n",
    "veces=2\n",
    "i=1\n",
    "prob=1\n",
    "while i<=veces:\n",
    "    prob=prob*Espadas/Cartas\n",
    "    Espadas-=1\n",
    "    Cartas-=1\n",
    "    i+=1\n",
    "print(round(prob,3))"
   ]
  },
  {
   "cell_type": "markdown",
   "metadata": {},
   "source": [
    "c) Si las primeras 4 cartas son todas de espadas, ¿cu´al es la probabilidad de que la siguiente carta sea\n",
    "tambi´en una espada?\n"
   ]
  },
  {
   "cell_type": "code",
   "execution_count": 53,
   "metadata": {},
   "outputs": [
    {
     "name": "stdout",
     "output_type": "stream",
     "text": [
      "0.188\n"
     ]
    }
   ],
   "source": [
    "Cartas=52\n",
    "Espadas=13\n",
    "Cartas-=4\n",
    "Espadas-=4\n",
    "veces=1\n",
    "i=1\n",
    "prob=1\n",
    "while i<=veces:\n",
    "    prob=prob*Espadas/Cartas\n",
    "    Espadas-=1\n",
    "    Cartas-=1\n",
    "    i+=1\n",
    "print(round(prob,3))"
   ]
  },
  {
   "cell_type": "markdown",
   "metadata": {},
   "source": [
    "2. Suponga que la probabilidad de exposici´on a la gripe durante una epidemia es .6. La experiencia ha\n",
    "demostrado que un suero tiene 80 % de ´exito para prevenir que una persona inoculada contraiga la gripe\n",
    "si se expone a ella. Una persona no inoculada enfrenta una probabilidad de ,90 de contraer la gripe si se\n",
    "expone a ella. Dos personas, una inoculada y otra no, realizan un trabajo altamente especializado en un\n",
    "negocio. Suponga que no est´an en el mismo lugar, no est´an en contacto con las mismas personas y no\n",
    "pueden contagiarse entre s´ı a la gripe. ¿Cu´al es la probabilidad de que al menos una de ellas se enferme?\n"
   ]
  },
  {
   "cell_type": "markdown",
   "metadata": {},
   "source": [
    "    Hay que sumar ambas posuibilidades, que la persona inoculada se enferme y que la persona no inoculada se enferme.\n",
    "    Para ambos casos tenemos un 0.6 de que se enfermen, para la inoculada tenemos que multiplicar por la probabilidad de que se enferme con el suero(0.2) y para la no inoculada tenemos que multiplicar por 0.9, con lo que nos queda."
   ]
  },
  {
   "cell_type": "code",
   "execution_count": 55,
   "metadata": {},
   "outputs": [
    {
     "data": {
      "text/plain": [
       "0.66"
      ]
     },
     "execution_count": 55,
     "metadata": {},
     "output_type": "execute_result"
    }
   ],
   "source": [
    "prob=(0.6*0.2)+(0.6*0.9)\n",
    "prob"
   ]
  },
  {
   "cell_type": "markdown",
   "metadata": {},
   "source": []
  },
  {
   "cell_type": "markdown",
   "metadata": {},
   "source": []
  },
  {
   "cell_type": "markdown",
   "metadata": {},
   "source": [
    "pt 4 A\n"
   ]
  },
  {
   "cell_type": "code",
   "execution_count": 56,
   "metadata": {},
   "outputs": [
    {
     "data": {
      "text/plain": [
       "6.000000000000001e-06"
      ]
     },
     "execution_count": 56,
     "metadata": {},
     "output_type": "execute_result"
    }
   ],
   "source": [
    "0.25*0.3*0.25*0.1*0.25*0.2*0.4*0.4*0.4"
   ]
  }
 ],
 "metadata": {
  "kernelspec": {
   "display_name": "Python 3",
   "language": "python",
   "name": "python3"
  },
  "language_info": {
   "codemirror_mode": {
    "name": "ipython",
    "version": 3
   },
   "file_extension": ".py",
   "mimetype": "text/x-python",
   "name": "python",
   "nbconvert_exporter": "python",
   "pygments_lexer": "ipython3",
   "version": "3.11.6"
  }
 },
 "nbformat": 4,
 "nbformat_minor": 2
}
