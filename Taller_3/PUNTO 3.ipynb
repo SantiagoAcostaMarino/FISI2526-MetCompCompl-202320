{
 "cells": [
  {
   "cell_type": "markdown",
   "metadata": {},
   "source": [
    "3. Valores y vectores propios\n"
   ]
  },
  {
   "cell_type": "code",
   "execution_count": 454,
   "metadata": {},
   "outputs": [],
   "source": [
    "import numpy as np"
   ]
  },
  {
   "cell_type": "code",
   "execution_count": 455,
   "metadata": {},
   "outputs": [],
   "source": [
    "m_1=1\n",
    "m_2=1\n",
    "m_3=1\n",
    "k=1\n",
    "Matriz= np.array([[-2*k/m_1,1*k/m_2,0],[1*k/m_1,-2*k/m_2,1*k/m_3],[0,1*k/m_2,-2*k/m_3]])\n",
    "Matriz_inv= np.linalg.inv(Matriz)\n",
    "Vec=np.random.rand(3)\n",
    "Vec_T= Vec.T\n",
    "Norm_V=np.linalg.norm(Vec_T)\n",
    "Vec_N=Vec/Norm_V\n"
   ]
  },
  {
   "cell_type": "code",
   "execution_count": 456,
   "metadata": {},
   "outputs": [],
   "source": [
    "def Iteracion_vectoMatriz(Vector,Matriz,k):\n",
    "    vector_0=Vector/np.linalg.norm(Vector)\n",
    "    for i in range(k):\n",
    "        vector_k=np.dot(Matriz,vector_0)\n",
    "        vector_k=vector_k/np.linalg.norm(vector_k)\n",
    "        vector_0=vector_k\n",
    "    return vector_k"
   ]
  },
  {
   "cell_type": "code",
   "execution_count": null,
   "metadata": {},
   "outputs": [],
   "source": [
    "\n",
    "\n",
    "\n"
   ]
  },
  {
   "cell_type": "markdown",
   "metadata": {},
   "source": [
    "Eigen value Mayor"
   ]
  },
  {
   "cell_type": "code",
   "execution_count": 457,
   "metadata": {},
   "outputs": [],
   "source": [
    "q_k=Iteracion_vectoMatriz(Vec,Matriz,10)\n",
    "q_kt=np.transpose(q_k)\n",
    "miu=np.dot(q_k,q_kt)\n",
    "miumax=miu"
   ]
  },
  {
   "cell_type": "markdown",
   "metadata": {},
   "source": [
    "Eigen value menor"
   ]
  },
  {
   "cell_type": "code",
   "execution_count": 458,
   "metadata": {},
   "outputs": [],
   "source": [
    "q_k=Iteracion_vectoMatriz(Vec,Matriz_inv,10)\n",
    "q_ktmin=q_k.T"
   ]
  },
  {
   "cell_type": "code",
   "execution_count": 459,
   "metadata": {},
   "outputs": [],
   "source": [
    "miu_2=np.dot(q_k,q_ktmin)\n",
    "miu=1/np.dot(miu_2,q_ktmin)\n",
    "miumin=miu_2"
   ]
  },
  {
   "cell_type": "code",
   "execution_count": 460,
   "metadata": {},
   "outputs": [
    {
     "name": "stdout",
     "output_type": "stream",
     "text": [
      "El menor nivel de energia es0.9999999999999998con su eigen vector[0.49999965 0.70710677 0.50000036]\n",
      "El mayor nivel de energia es1.0con su eigen vector[ 0.49928182 -0.70710639  0.50071771]\n"
     ]
    }
   ],
   "source": [
    "print(\"El menor nivel de energia es\"+str(miumin)+\"con su eigen vector\"+ str(q_ktmin))\n",
    "print(\"El mayor nivel de energia es\"+str(miumax)+\"con su eigen vector\"+ str(q_kt))"
   ]
  },
  {
   "cell_type": "code",
   "execution_count": null,
   "metadata": {},
   "outputs": [],
   "source": []
  }
 ],
 "metadata": {
  "kernelspec": {
   "display_name": "Python 3",
   "language": "python",
   "name": "python3"
  },
  "language_info": {
   "codemirror_mode": {
    "name": "ipython",
    "version": 3
   },
   "file_extension": ".py",
   "mimetype": "text/x-python",
   "name": "python",
   "nbconvert_exporter": "python",
   "pygments_lexer": "ipython3",
   "version": "3.11.6"
  },
  "orig_nbformat": 4
 },
 "nbformat": 4,
 "nbformat_minor": 2
}
