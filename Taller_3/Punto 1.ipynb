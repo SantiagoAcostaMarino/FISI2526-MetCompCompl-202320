{
 "cells": [
  {
   "cell_type": "code",
   "execution_count": 1,
   "metadata": {},
   "outputs": [],
   "source": [
    "import numpy as np\n",
    "import matplotlib.pyplot as plt"
   ]
  },
  {
   "cell_type": "markdown",
   "metadata": {},
   "source": [
    "Construya el algoritmo de multiplicación de matrices y encuentre el resultado\n",
    "de las siguientes operaciones."
   ]
  },
  {
   "cell_type": "code",
   "execution_count": 2,
   "metadata": {},
   "outputs": [],
   "source": [
    "#Algoritmo de multiplicacion de matrices\n",
    "def MultMatriz (matriz1, matriz2):\n",
    "    #definimos el tamaño de las filas y columnas de ambas matrices \n",
    "    filas1 = len(matriz1)\n",
    "    columnas1 = len(matriz1[0])\n",
    "    filas2 = len(matriz2)\n",
    "    columnas2 = len(matriz2[0])\n",
    "    \n",
    "\n",
    "    #En primer lugar comprobamos que sea matematicamente posible hacer la multiplicacion\n",
    "    if columnas1 != filas2 and columnas2 != filas1:\n",
    "        return \"No es posible hacer la multiplicacion de matrices.\"\n",
    "\n",
    "    #Ahora definimos las 2 opciones de multiplicacion que se pueden generar \n",
    "    if columnas1 == filas2:\n",
    "        Matriz_0 = [[0] * columnas2 for _ in range(filas1)]  #Esta linea nos genera una matriz con 0 de tamaño nxm derivadao de las matrices originagles\n",
    "\n",
    "        for i in range(filas1):\n",
    "            for j in range(columnas2):\n",
    "                for k in range(filas2):\n",
    "                    Matriz_0[i][j] += matriz1[i][k] * matriz2[k][j]\n",
    "\n",
    "    #Ahora definimos el mismo codigo pero en el caso de pr0porner las              \n",
    "    else:\n",
    "        Matriz_0 = [[0] * columnas1 for _ in range(filas2)]\n",
    "\n",
    "        for i in range(filas2):\n",
    "            for j in range(columnas1):\n",
    "                for k in range(filas1):\n",
    "                    Matriz_0[i][j] += matriz2[i][k] * matriz1[k][j]\n",
    "\n",
    "    return Matriz_0"
   ]
  },
  {
   "cell_type": "code",
   "execution_count": 4,
   "metadata": {},
   "outputs": [
    {
     "data": {
      "text/plain": [
       "[[61, 78, 95], [75, 96, 117], [89, 114, 139]]"
      ]
     },
     "execution_count": 4,
     "metadata": {},
     "output_type": "execute_result"
    }
   ],
   "source": [
    "matriz2 = [[2, 3, 4], [5, 6, 7]]\n",
    "matriz1 = [[8, 9], [10, 11], [12, 13]]\n",
    "resultado = MultMatriz (matriz1, matriz2)\n",
    "resultado"
   ]
  }
 ],
 "metadata": {
  "kernelspec": {
   "display_name": "base",
   "language": "python",
   "name": "python3"
  },
  "language_info": {
   "codemirror_mode": {
    "name": "ipython",
    "version": 3
   },
   "file_extension": ".py",
   "mimetype": "text/x-python",
   "name": "python",
   "nbconvert_exporter": "python",
   "pygments_lexer": "ipython3",
   "version": "3.9.7"
  }
 },
 "nbformat": 4,
 "nbformat_minor": 2
}
