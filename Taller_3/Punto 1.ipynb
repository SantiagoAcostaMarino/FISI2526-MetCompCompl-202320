{
 "cells": [
  {
   "cell_type": "code",
   "execution_count": 82,
   "metadata": {},
   "outputs": [],
   "source": [
    "import numpy as np\n",
    "import matplotlib.pyplot as plt"
   ]
  },
  {
   "cell_type": "markdown",
   "metadata": {},
   "source": [
    "Construya el algoritmo de multiplicación de matrices y encuentre el resultado\n",
    "de las siguientes operaciones."
   ]
  },
  {
   "cell_type": "code",
   "execution_count": 83,
   "metadata": {},
   "outputs": [],
   "source": [
    "#Algoritmo de multiplicacion de matrices\n",
    "def MultMatriz (matriz1, matriz2):\n",
    "    #definimos el tamaño de las filas y columnas de ambas matrices \n",
    "    filas1 = len(matriz1)\n",
    "    columnas1 = len(matriz1[0])\n",
    "    filas2 = len(matriz2)\n",
    "    columnas2 = len(matriz2[0])\n",
    "    \n",
    "\n",
    "    #En primer lugar comprobamos que sea matematicamente posible hacer la multiplicacion\n",
    "    if columnas1 != filas2 and columnas2 != filas1:\n",
    "        return \"No es posible hacer la multiplicacion de estas matrices.\"\n",
    "\n",
    "    #Ahora definimos las 2 opciones de multiplicacion que se pueden generar \n",
    "    if columnas1 == filas2:\n",
    "        Matriz_0 = [[0] * columnas2 for _ in range(filas1)]  #Esta linea nos genera una matriz con 0 de tamaño nxm derivadao de las matrices originagles\n",
    "\n",
    "        for i in range(filas1):\n",
    "            for j in range(columnas2):\n",
    "                for k in range(filas2):\n",
    "                    Matriz_0[i][j] += matriz1[i][k] * matriz2[k][j]\n",
    "\n",
    "    #Ahora definimos el mismo codigo pero en el caso de pr0porner las              \n",
    "    else:\n",
    "        Matriz_0 = [[0] * columnas1 for _ in range(filas2)]\n",
    "\n",
    "        for i in range(filas2):\n",
    "            for j in range(columnas1):\n",
    "                for k in range(filas1):\n",
    "                    Matriz_0[i][j] += matriz2[i][k] * matriz1[k][j]\n",
    "\n",
    "    return Matriz_0"
   ]
  },
  {
   "cell_type": "code",
   "execution_count": 84,
   "metadata": {},
   "outputs": [
    {
     "data": {
      "text/plain": [
       "[[39], [23], [12], [-42], [32]]"
      ]
     },
     "execution_count": 84,
     "metadata": {},
     "output_type": "execute_result"
    }
   ],
   "source": [
    "#a.\n",
    "matriz1 = [[5, -4, -2], [5, -5, 4], [2, 5, -4], [-5, 4, 3], [3, -4, -3]]\n",
    "matriz2 = [[5], [-2], [-3]]\n",
    "multiplicacion_a = MultMatriz (matriz1, matriz2)\n",
    "multiplicacion_a "
   ]
  },
  {
   "cell_type": "code",
   "execution_count": 85,
   "metadata": {},
   "outputs": [
    {
     "data": {
      "text/plain": [
       "'No es posible hacer la multiplicacion de estas matrices.'"
      ]
     },
     "execution_count": 85,
     "metadata": {},
     "output_type": "execute_result"
    }
   ],
   "source": [
    "#b.\n",
    "matriz1 = [[0, -1, -1, 3], [5, -5, -2, 2], [1, 0, 4, 5]]\n",
    "matriz2 = [[0,-3], [-2, -1], [3, -3]]\n",
    "multiplicacion_b = MultMatriz (matriz1, matriz2)\n",
    "multiplicacion_b"
   ]
  },
  {
   "cell_type": "code",
   "execution_count": 86,
   "metadata": {},
   "outputs": [
    {
     "data": {
      "text/plain": [
       "[[12, 27, -13, 25, -37],\n",
       " [2, 51, -39, -46, -23],\n",
       " [27, -1, -19, 16, -20],\n",
       " [13, 25, -91, -1, -56]]"
      ]
     },
     "execution_count": 86,
     "metadata": {},
     "output_type": "execute_result"
    }
   ],
   "source": [
    "#c.\n",
    "matriz1 = [[2, -5, 5, 1], [5, 2, -7, -6], [-6, -1, 7, -4], [5, 4, 1, -5]]\n",
    "matriz2 = [[0, 4, -7, 1, -6], [-1, -6, -5, 1, 1], [2, -1, -6, 5, -5], [-3, -6, 6, 3, 5]]\n",
    "multiplicacion_c = MultMatriz (matriz1, matriz2)\n",
    "multiplicacion_c"
   ]
  },
  {
   "cell_type": "markdown",
   "metadata": {},
   "source": []
  },
  {
   "cell_type": "markdown",
   "metadata": {},
   "source": [
    "Utilizando dos matrices cuadradas, demuestre que la multiplicación no es\n",
    "conmutativa."
   ]
  },
  {
   "cell_type": "markdown",
   "metadata": {},
   "source": [
    "La multiplicacion de matrices es no conmutativa, lo cual se refiere a que el orden de multiliacion cambia el resultado.\n",
    "\n",
    "Si tenemos [A] nxn y [B] nxn [A]X[B] ≠ [B]X[A]"
   ]
  },
  {
   "cell_type": "code",
   "execution_count": 87,
   "metadata": {},
   "outputs": [
    {
     "name": "stdout",
     "output_type": "stream",
     "text": [
      "El resultado de multiplicar AxB es: [[58, 56], [110, 88]].\n",
      "Por otra parte, el resultado de multiplicar BxA es: [[36, 66], [76, 110]].\n"
     ]
    }
   ],
   "source": [
    "#Definimos 2 matrices cuadradras\n",
    "\n",
    "Matriz_A = [[2,5],[6,7]]\n",
    "Matriz_B = [[9,3], [8, 10]]\n",
    "            \n",
    "#Calculamos [A]x[B]\n",
    "Matr_AxB = MultMatriz (Matriz_A, Matriz_B)\n",
    "\n",
    "#Calculamos [B]x[A]\n",
    "Matr_BxA = MultMatriz (Matriz_B, Matriz_A)\n",
    "\n",
    "\n",
    "print(\"El resultado de multiplicar AxB es: {}.\\nPor otra parte, el resultado de multiplicar BxA es: {}.\".format(Matr_AxB, Matr_BxA))\n"
   ]
  },
  {
   "cell_type": "markdown",
   "metadata": {},
   "source": [
    "Como se observa, al cambiar el orden de la multipliacion el resultado tambien cambia, por lo cual comporbamos que la multiplicacion de matrices es no conmutativa"
   ]
  },
  {
   "cell_type": "code",
   "execution_count": null,
   "metadata": {},
   "outputs": [],
   "source": []
  },
  {
   "cell_type": "code",
   "execution_count": null,
   "metadata": {},
   "outputs": [],
   "source": []
  },
  {
   "cell_type": "code",
   "execution_count": null,
   "metadata": {},
   "outputs": [],
   "source": []
  }
 ],
 "metadata": {
  "kernelspec": {
   "display_name": "base",
   "language": "python",
   "name": "python3"
  },
  "language_info": {
   "codemirror_mode": {
    "name": "ipython",
    "version": 3
   },
   "file_extension": ".py",
   "mimetype": "text/x-python",
   "name": "python",
   "nbconvert_exporter": "python",
   "pygments_lexer": "ipython3",
   "version": "3.9.7"
  }
 },
 "nbformat": 4,
 "nbformat_minor": 2
}
