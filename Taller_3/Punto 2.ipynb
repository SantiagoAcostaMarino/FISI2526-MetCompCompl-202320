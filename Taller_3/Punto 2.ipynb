{
 "cells": [
  {
   "cell_type": "code",
   "execution_count": 1,
   "metadata": {},
   "outputs": [],
   "source": [
    "import numpy as np\n",
    "import matplotlib.pyplot as plt"
   ]
  },
  {
   "cell_type": "markdown",
   "metadata": {},
   "source": [
    "Utilizando el algoritmo de reducción Gaussiana, resuelva los siguientes\n",
    "sistemas de ecuaciones:"
   ]
  },
  {
   "cell_type": "code",
   "execution_count": 2,
   "metadata": {},
   "outputs": [],
   "source": [
    "#Esteblecemos el algoritmo de reducción Gaussiana\n",
    "\n",
    "def Gauss_Jordan(matriz):\n",
    "    filas = len(matriz)\n",
    "    columnas = len(matriz[0])\n",
    "    \n",
    "    for i in range(filas):\n",
    "        # En la primera columna buscamos el pivote mas cercano a uno (para simplificar el algoritmo de la reduccion)\n",
    "        pivote_1 = i\n",
    "        for k in range(i + 1, filas):\n",
    "            if abs(matriz[k][i]) < abs(matriz[pivote_1][i]) and abs(matriz[k][i]) !=0:\n",
    "                pivote_1 = k\n",
    "        \n",
    "        # Intercambiamos las filas para que el pivote mas cercanco a 1 este en la primera columna este en la primera fila\n",
    "        if pivote_1 != i:\n",
    "            matriz[i], matriz[pivote_1] = matriz[pivote_1], matriz[i]\n",
    "        \n",
    "        # Establecemos el pivote de la primera fila\n",
    "        pivote = matriz[i][i]\n",
    "        \n",
    "        # Normalizamos la fila del pivote\n",
    "        for j in range(columnas ):\n",
    "            matriz[i][j] /= pivote\n",
    "        \n",
    "        # Desarollamos la reduccion de Gauss-Jordan en las siguientes columnas\n",
    "        for k in range(filas):\n",
    "            if k != i:\n",
    "                factor = matriz[k][i]\n",
    "                for j in range(columnas ):\n",
    "                    matriz[k][j] -= factor * matriz[i][j]\n",
    "    \n",
    "    return matriz\n"
   ]
  },
  {
   "cell_type": "code",
   "execution_count": 3,
   "metadata": {},
   "outputs": [
    {
     "name": "stdout",
     "output_type": "stream",
     "text": [
      "F1: 0.7142857142857142 \n",
      "F2: 0.8571428571428571 \n",
      "F3: 1.0\n"
     ]
    }
   ],
   "source": [
    "#a. Fuerzas F1 F2 F3\n",
    "\n",
    "#Establecemos la matriz de las 3 fuerzas\n",
    "F = [\n",
    "    [3, 1, -1, 2],\n",
    "    [1, -2, 1, 0],\n",
    "    [4, -1, 1, 3]\n",
    "]\n",
    "\n",
    "#Realizamos la reduccion Guassiana de la matriz\n",
    "GJ_F = Gauss_Jordan(F)\n",
    "\n",
    "\n",
    "#Imprimos los resultados\n",
    "print(\"F1: {} \\nF2: {} \\nF3: {}\".format(GJ_F[0][3], GJ_F[1][3], GJ_F[2][3]))\n"
   ]
  },
  {
   "cell_type": "code",
   "execution_count": 4,
   "metadata": {},
   "outputs": [
    {
     "name": "stdout",
     "output_type": "stream",
     "text": [
      "Ia: 0.7105263157894737 \n",
      "Ib: -0.39473684210526316 \n",
      "Ic: -0.3157894736842105\n"
     ]
    }
   ],
   "source": [
    "#b. Corrientes Ia Ib Ic\n",
    "\n",
    "#Establecemos la matriz de las 3 corrientes\n",
    "I = [\n",
    "    [1, 1, 1, 0],\n",
    "    [0, -8, 10, 0],\n",
    "    [4, -8, 0, 6]\n",
    "]\n",
    "\n",
    "#Realizamos la reduccion Guassiana de la matriz\n",
    "GJ_I = Gauss_Jordan(I)\n",
    "\n",
    "\n",
    "#Imprimos los resultados\n",
    "print(\"Ia: {} \\nIb: {} \\nIc: {}\".format(GJ_I[0][3], GJ_I[1][3], GJ_I[2][3]))"
   ]
  }
 ],
 "metadata": {
  "kernelspec": {
   "display_name": "base",
   "language": "python",
   "name": "python3"
  },
  "language_info": {
   "codemirror_mode": {
    "name": "ipython",
    "version": 3
   },
   "file_extension": ".py",
   "mimetype": "text/x-python",
   "name": "python",
   "nbconvert_exporter": "python",
   "pygments_lexer": "ipython3",
   "version": "3.9.7"
  }
 },
 "nbformat": 4,
 "nbformat_minor": 2
}
