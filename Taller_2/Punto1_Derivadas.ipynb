{
 "cells": [
  {
   "cell_type": "code",
   "execution_count": 511,
   "metadata": {},
   "outputs": [],
   "source": [
    "\n",
    "import numpy as np\n",
    "import matplotlib.pyplot as plt\n"
   ]
  },
  {
   "cell_type": "code",
   "execution_count": null,
   "metadata": {},
   "outputs": [],
   "source": []
  },
  {
   "cell_type": "markdown",
   "metadata": {},
   "source": [
    "#Punto 1\n",
    "Grafica de la corriente inducida sobre el bucle en función del tiempo"
   ]
  },
  {
   "cell_type": "code",
   "execution_count": 512,
   "metadata": {},
   "outputs": [],
   "source": [
    "# Parámetros dados\n",
    "B0 = 0.05  # T\n",
    "f = 7.0   # Hz\n",
    "Omega = 3.5  # rad/s\n",
    "R = 1750.0  # Ω (1.75 kΩ)\n",
    "r = 0.125   # m (radio del bucle)"
   ]
  },
  {
   "cell_type": "code",
   "execution_count": 513,
   "metadata": {},
   "outputs": [],
   "source": [
    "# Definir el tiempo para dos períodos de rotación del bucle\n",
    "tiempo_bucle = np.linspace(0, 2.0/f, 1000) "
   ]
  },
  {
   "cell_type": "code",
   "execution_count": 514,
   "metadata": {},
   "outputs": [],
   "source": [
    "#Definimos la funcion\n",
    "import numpy as np\n",
    "\n",
    "def flujo_magnetico(B0, r, Omega, f, t):\n",
    "\n",
    "    f_m = np.pi * r**2 * B0 * np.cos(Omega * t) * np.cos(2 * np.pi * f * t)\n",
    "    return f_m\n"
   ]
  },
  {
   "cell_type": "code",
   "execution_count": 515,
   "metadata": {},
   "outputs": [],
   "source": [
    "flujo_mag = flujo_magnetico(B0,r,Omega,f,tiempo_bucle)"
   ]
  },
  {
   "cell_type": "code",
   "execution_count": 516,
   "metadata": {},
   "outputs": [],
   "source": [
    "#Derivada\n",
    "def Derivada(B0, r, Omega, f, t, h=1e-6):\n",
    "    return (flujo_magnetico(B0, r, Omega, f, t + h) - flujo_magnetico(B0, r, Omega, f, t - h)) / (2*h)"
   ]
  },
  {
   "cell_type": "code",
   "execution_count": 517,
   "metadata": {},
   "outputs": [],
   "source": [
    "#Derivada\n",
    "dPhiB_dt = Derivada(B0, r, Omega, f, tiempo_bucle)\n"
   ]
  },
  {
   "cell_type": "code",
   "execution_count": 518,
   "metadata": {},
   "outputs": [],
   "source": [
    "#Corriente\n",
    "I = -(dPhiB_dt/R)"
   ]
  },
  {
   "cell_type": "code",
   "execution_count": 519,
   "metadata": {},
   "outputs": [
    {
     "data": {
      "image/png": "[encoded data removed]",
      "text/plain": [
       "<Figure size 720x288 with 1 Axes>"
      ]
     },
     "metadata": {
      "needs_background": "light"
     },
     "output_type": "display_data"
    }
   ],
   "source": [
    "#Grafica\n",
    "plt.figure(figsize=(10, 4))\n",
    "plt.plot(tiempo_bucle, I)\n",
    "plt.title('Corriente Inducida en el Bucle en función del Tiempo')\n",
    "plt.xlabel('Tiempo (s)')\n",
    "plt.ylabel('Corriente (A)')\n",
    "plt.grid(True)\n",
    "plt.show()"
   ]
  },
  {
   "cell_type": "markdown",
   "metadata": {},
   "source": [
    "#Punto 2\n",
    "primeros tres instantes de tiempo en los que la corriente sobre el bucle es cero."
   ]
  },
  {
   "cell_type": "code",
   "execution_count": 520,
   "metadata": {},
   "outputs": [
    {
     "data": {
      "text/plain": [
       "<function __main__.puntos_cero()>"
      ]
     },
     "execution_count": 520,
     "metadata": {},
     "output_type": "execute_result"
    }
   ],
   "source": [
    "# Encontrar los puntos en los que la corriente cruza el valor cero\n",
    "def puntos_cero():\n",
    "    valores = flujo\n",
    "    puntos = find_peaks(np.abs(valores), height=0.001)\n",
    "    return puntos\n",
    "\n",
    "puntos = puntos_cero\n",
    "puntos\n",
    "\n"
   ]
  },
  {
   "cell_type": "code",
   "execution_count": 521,
   "metadata": {},
   "outputs": [],
   "source": [
    "def tres_primeros_ceros(corriente, t):\n",
    "    instantes_cero = []\n",
    "    for i in range(len(corriente)):\n",
    "        if corriente[i] == 0:\n",
    "            instantes_cero.append(t[i])\n",
    "            if len(instantes_cero) == 3:\n",
    "                break\n",
    "    return instantes_cero\n",
    "\n",
    "\n",
    " "
   ]
  },
  {
   "cell_type": "code",
   "execution_count": 522,
   "metadata": {},
   "outputs": [
    {
     "data": {
      "text/plain": [
       "[]"
      ]
     },
     "execution_count": 522,
     "metadata": {},
     "output_type": "execute_result"
    }
   ],
   "source": [
    "corriente_cero = tres_instantes_cero(I, tiempo_bucle)   \n",
    "corriente_cero\n"
   ]
  },
  {
   "cell_type": "code",
   "execution_count": null,
   "metadata": {},
   "outputs": [],
   "source": []
  },
  {
   "cell_type": "code",
   "execution_count": null,
   "metadata": {},
   "outputs": [],
   "source": []
  },
  {
   "cell_type": "code",
   "execution_count": null,
   "metadata": {},
   "outputs": [],
   "source": []
  },
  {
   "cell_type": "code",
   "execution_count": null,
   "metadata": {},
   "outputs": [],
   "source": []
  }
 ],
 "metadata": {
  "kernelspec": {
   "display_name": "base",
   "language": "python",
   "name": "python3"
  },
  "language_info": {
   "codemirror_mode": {
    "name": "ipython",
    "version": 3
   },
   "file_extension": ".py",
   "mimetype": "text/x-python",
   "name": "python",
   "nbconvert_exporter": "python",
   "pygments_lexer": "ipython3",
   "version": "3.9.7"
  },
  "orig_nbformat": 4
 },
 "nbformat": 4,
 "nbformat_minor": 2
}
