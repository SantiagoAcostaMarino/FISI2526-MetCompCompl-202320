{
 "cells": [
  {
   "cell_type": "code",
   "execution_count": 803,
   "metadata": {},
   "outputs": [],
   "source": [
    "import numpy as np\n",
    "import matplotlib.pyplot as plt\n",
    "\n"
   ]
  },
  {
   "cell_type": "markdown",
   "metadata": {},
   "source": [
    "Ejercicio 4.1"
   ]
  },
  {
   "cell_type": "code",
   "execution_count": 804,
   "metadata": {},
   "outputs": [],
   "source": [
    "N = 1000000\n",
    "a = 0\n",
    "b = np.pi\n",
    "x = np.random.uniform(a,b,N) #N es el número de muestras aleatorias que tomará"
   ]
  },
  {
   "cell_type": "code",
   "execution_count": 805,
   "metadata": {},
   "outputs": [],
   "source": [
    "# Definir la función \n",
    "def func(x):\n",
    "    return np.exp(-x) * np.sin(x)"
   ]
  },
  {
   "cell_type": "code",
   "execution_count": 806,
   "metadata": {},
   "outputs": [
    {
     "data": {
      "text/plain": [
       "array([0.0045285 , 0.18564852, 0.09738916, ..., 0.29465911, 0.193189  ,\n",
       "       0.32161078])"
      ]
     },
     "execution_count": 806,
     "metadata": {},
     "output_type": "execute_result"
    }
   ],
   "source": [
    "# Calculo aleatorio de f(xi)\n",
    "fxi = func(x)\n",
    "fxi"
   ]
  },
  {
   "cell_type": "code",
   "execution_count": 807,
   "metadata": {},
   "outputs": [
    {
     "data": {
      "text/plain": [
       "0.5213612631288695"
      ]
     },
     "execution_count": 807,
     "metadata": {},
     "output_type": "execute_result"
    }
   ],
   "source": [
    "#Integral \n",
    "def Int(fi, N):\n",
    "    int = (b-a)*sum(fi)/N\n",
    "    return int\n",
    "int = Int (fxi, N)\n",
    "int"
   ]
  },
  {
   "cell_type": "markdown",
   "metadata": {},
   "source": [
    "Como se oberva, al generar un x aleatorio el resultado de la integral varia en fucnion de este x, por lo cual existe un error porcentual en relacion al valor teorico de la integral, esto debido al numero de medidas"
   ]
  },
  {
   "cell_type": "code",
   "execution_count": 808,
   "metadata": {},
   "outputs": [
    {
     "data": {
      "text/plain": [
       "0.5216069591318861"
      ]
     },
     "execution_count": 808,
     "metadata": {},
     "output_type": "execute_result"
    }
   ],
   "source": [
    "#Estblecemos el valor teorico de la integral\n",
    "intTeo = 1/2 * (1+ np.exp(-np.pi))\n",
    "intTeo\n",
    "\n",
    "#Este valor no cambia, por lo cual se usa para calcular el error porcentual de un x aleatorio"
   ]
  },
  {
   "cell_type": "markdown",
   "metadata": {},
   "source": [
    "Error % =[(Valor Teórico - Valor Experimental) / Valor Teórico] × 100%"
   ]
  },
  {
   "cell_type": "code",
   "execution_count": 809,
   "metadata": {},
   "outputs": [
    {
     "data": {
      "text/plain": [
       "0.047103666604739684"
      ]
     },
     "execution_count": 809,
     "metadata": {},
     "output_type": "execute_result"
    }
   ],
   "source": [
    "#calculo error porcentual\n",
    "def error_porcentual(exp, teo):\n",
    "    error = np.abs((exp-teo)/teo) *100\n",
    "    return error\n",
    "\n",
    "error = error_porcentual (int, intTeo)\n",
    "error\n"
   ]
  },
  {
   "cell_type": "code",
   "execution_count": 810,
   "metadata": {},
   "outputs": [],
   "source": [
    "#Ahora calculamos el error porcentual en base a N\n",
    "\n",
    "N_cantidad = [10,100,1000,10000,100000,1000000]#Establecemos un cantidad de N \n",
    "\n",
    "ErrorNi = [] # errores porcentuales para cada cantidad de N\n",
    "Cota_sup = [] #1/Raiz(N) para cada cantidad de N\n",
    "\n",
    "for Ni in N_cantidad:\n",
    "    a = 0\n",
    "    b = np.pi\n",
    "    x = np.random.uniform(a, b, Ni)\n",
    "    \n",
    "    # Calcular los valores de la función en las muestras\n",
    "    fNi = func(x)\n",
    "    \n",
    "    # Calcular la integral utilizando el método de Monte Carlo\n",
    "    Iexp = Int(fNi, Ni)\n",
    "    \n",
    "    # Calcular el error porcentual\n",
    "    ErrorPortNi = error_porcentual(Iexp,intTeo )\n",
    "    \n",
    "    ErrorNi.append(ErrorPortNi)\n",
    "\n",
    "    #Calcular 1/Raiz(N)\n",
    "    cot = (1 / np.sqrt(N))\n",
    "    Cota_sup.append(cot)\n"
   ]
  },
  {
   "cell_type": "code",
   "execution_count": 811,
   "metadata": {},
   "outputs": [
    {
     "data": {
      "image/png": "[encoded data removed]",
      "text/plain": [
       "<Figure size 720x432 with 1 Axes>"
      ]
     },
     "metadata": {
      "needs_background": "light"
     },
     "output_type": "display_data"
    }
   ],
   "source": [
    "# Graficar el error porcentual en función de N\n",
    "plt.figure(figsize=(10, 6))\n",
    "plt.plot(N_cantidad, ErrorNi, marker='o' , label='Error Porcentual')\n",
    "plt.plot(N_cantidad, Cota_sup, linestyle='--', label='Cota Superior (1/√N)')\n",
    "plt.xlabel('Número de Muestras (N)')\n",
    "plt.ylabel('Error Porcentual (%)')\n",
    "plt.title('Error Porcentual vs Número de Muestras (Método de Monte Carlo)')\n",
    "plt.grid(True)\n",
    "plt.legend()\n",
    "plt.show()"
   ]
  },
  {
   "cell_type": "markdown",
   "metadata": {},
   "source": [
    "Ejercicio 4.3"
   ]
  },
  {
   "cell_type": "code",
   "execution_count": 812,
   "metadata": {},
   "outputs": [
    {
     "data": {
      "text/plain": [
       "36720"
      ]
     },
     "execution_count": 812,
     "metadata": {},
     "output_type": "execute_result"
    }
   ],
   "source": [
    "#Establecer el rango de la integral (Radio de la esfera (Ω))\n",
    "R = 1\n",
    "\n",
    "#Rstablecemos N puntos aleatorios\n",
    "N = np.random.randint(1000, 100000)\n",
    "N"
   ]
  },
  {
   "cell_type": "code",
   "execution_count": 813,
   "metadata": {},
   "outputs": [],
   "source": [
    "# Generar coordenadas x, y, y z aleatorias en base a R y N\n",
    "x = np.random.uniform(-R,R,N)\n",
    "y = np.random.uniform(-R,R,N)\n",
    "z = np.random.uniform(-R,R,N)"
   ]
  },
  {
   "cell_type": "code",
   "execution_count": 814,
   "metadata": {},
   "outputs": [
    {
     "data": {
      "text/plain": [
       "4.735727170866607"
      ]
     },
     "execution_count": 814,
     "metadata": {},
     "output_type": "execute_result"
    }
   ],
   "source": [
    "# Calcular la integral aproximada\n",
    "\n",
    "suma = 0.0\n",
    "for i in range(N):\n",
    "    if x[i]**2 + y[i]**2 + z[i]**2 < R**2:\n",
    "        int = np.sin(x[i]**2 + y[i]**2 + z[i]**2) * np.exp(x[i]**2 + y[i]**2 + z[i]**2)\n",
    "        suma += int\n",
    "\n",
    "I = (2*R)**3*suma/N \n",
    "I"
   ]
  },
  {
   "cell_type": "code",
   "execution_count": 815,
   "metadata": {},
   "outputs": [
    {
     "name": "stdout",
     "output_type": "stream",
     "text": [
      "Resultado aproximado de la integral: 4.735727170866607\n"
     ]
    }
   ],
   "source": [
    "print(\"Resultado aproximado de la integral:\", I)"
   ]
  }
 ],
 "metadata": {
  "kernelspec": {
   "display_name": "base",
   "language": "python",
   "name": "python3"
  },
  "language_info": {
   "codemirror_mode": {
    "name": "ipython",
    "version": 3
   },
   "file_extension": ".py",
   "mimetype": "text/x-python",
   "name": "python",
   "nbconvert_exporter": "python",
   "pygments_lexer": "ipython3",
   "version": "3.9.7"
  },
  "orig_nbformat": 4
 },
 "nbformat": 4,
 "nbformat_minor": 2
}
