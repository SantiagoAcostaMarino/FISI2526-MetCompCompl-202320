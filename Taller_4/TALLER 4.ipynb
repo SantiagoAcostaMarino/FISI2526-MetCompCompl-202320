{
 "cells": [
  {
   "cell_type": "code",
   "execution_count": 159,
   "metadata": {},
   "outputs": [],
   "source": [
    "import numpy as np\n",
    "import scipy as sp"
   ]
  },
  {
   "cell_type": "markdown",
   "metadata": {},
   "source": [
    "Calculo de probabilidad"
   ]
  },
  {
   "cell_type": "markdown",
   "metadata": {},
   "source": [
    "1)Se reparten cartas, una a la vez, de una baraja de 52 cartas."
   ]
  },
  {
   "cell_type": "code",
   "execution_count": 161,
   "metadata": {},
   "outputs": [],
   "source": [
    "def prob_espada (sacadas,por_sacar):\n",
    "    N = 1000000\n",
    "    espadas = np.arange(1, 14) #Creamos las cartas que acturaran como el palo de espadas\n",
    "    todas_espadas_1 = 0  #Probabilidad de que las cartas sean espadas con el primer numero de cartas sacadas\n",
    "    todas_espadas_2 = 0 #Probabilidad de que las cartas sean espadas con el resto de cartas sacadas\n",
    "\n",
    "\n",
    "    for _ in range(N):\n",
    "        cartas = np.arange(1, 53)\n",
    "        np.random.shuffle(cartas)\n",
    "        cartas_tomadas_1 = cartas[:sacadas]\n",
    "        cartas_tomadas_2 = cartas[:(sacadas+por_sacar)]\n",
    "\n",
    "        todas_espadas_1 += sum(1 for carta in cartas_tomadas_1 if carta in espadas) == sacadas\n",
    "        todas_espadas_2 += sum(1 for carta in cartas_tomadas_2 if carta in espadas) == (sacadas+por_sacar)\n",
    "        \n",
    "\n",
    "    prob_1 = todas_espadas_1 / N\n",
    "    prob_2 = todas_espadas_2 / N\n",
    "    prob_total = prob_2/prob_1\n",
    "    return prob_total\n",
    "\n",
    "\n"
   ]
  },
  {
   "cell_type": "markdown",
   "metadata": {},
   "source": []
  },
  {
   "cell_type": "markdown",
   "metadata": {},
   "source": [
    "a) Si las primeras 2 cartas son espadas, ¿cual es la probabilidad de que las siguientes 3 cartas tambien\n",
    "sean espadas?\n"
   ]
  },
  {
   "cell_type": "code",
   "execution_count": 162,
   "metadata": {},
   "outputs": [
    {
     "data": {
      "text/plain": [
       "0.008877463581833762"
      ]
     },
     "execution_count": 162,
     "metadata": {},
     "output_type": "execute_result"
    }
   ],
   "source": [
    "prob_a = prob_espada (2,3)\n",
    "prob_a"
   ]
  },
  {
   "cell_type": "markdown",
   "metadata": {},
   "source": [
    "b) Si las primeras 3 cartas son todas de espadas, ¿cual es la probabilidad de que las 2 cartas siguientes\n",
    "sean tambien espadas?\n"
   ]
  },
  {
   "cell_type": "code",
   "execution_count": 163,
   "metadata": {},
   "outputs": [
    {
     "data": {
      "text/plain": [
       "0.03788924681699647"
      ]
     },
     "execution_count": 163,
     "metadata": {},
     "output_type": "execute_result"
    }
   ],
   "source": [
    "prob_b = prob_espada (3,2)\n",
    "prob_b"
   ]
  },
  {
   "cell_type": "markdown",
   "metadata": {},
   "source": [
    "c) Si las primeras 4 cartas son todas de espadas, ¿cual es la probabilidad de que la siguiente carta sea\n",
    "tambien una espada?\n"
   ]
  },
  {
   "cell_type": "code",
   "execution_count": 169,
   "metadata": {},
   "outputs": [
    {
     "data": {
      "text/plain": [
       "0.19132455460883036"
      ]
     },
     "execution_count": 169,
     "metadata": {},
     "output_type": "execute_result"
    }
   ],
   "source": [
    "prob_c = prob_espada (4,1)\n",
    "prob_c"
   ]
  },
  {
   "cell_type": "markdown",
   "metadata": {},
   "source": [
    "2. Suponga que la probabilidad de exposicion a la gripe durante una epidemia es .6. La experiencia ha\n",
    "demostrado que un suero tiene 80 % de exito para prevenir que una persona inoculada contraiga la gripe\n",
    "si se expone a ella. Una persona no inoculada enfrenta una probabilidad de ,90 de contraer la gripe si se\n",
    "expone a ella. Dos personas, una inoculada y otra no, realizan un trabajo altamente especializado en un\n",
    "negocio. Suponga que no est´an en el mismo lugar, no estan en contacto con las mismas personas y no\n",
    "pueden contagiarse entre sı a la gripe. ¿Cu´al es la probabilidad de que al menos una de ellas se enferme?\n"
   ]
  },
  {
   "cell_type": "code",
   "execution_count": 258,
   "metadata": {},
   "outputs": [
    {
     "data": {
      "text/plain": [
       "0.59663"
      ]
     },
     "execution_count": 258,
     "metadata": {},
     "output_type": "execute_result"
    }
   ],
   "source": [
    "N = 100000\n",
    "\n",
    "prob_general = 0.6\n",
    "\n",
    "# Probabilidad de no contraer la gripe si se está inoculado\n",
    "prob_inoculado = (1-0.8)\n",
    "\n",
    "# Probabilidad de contraer la gripe si no se está inoculado\n",
    "prob_no_inoculado = 0.9\n",
    "\n",
    "persona_enferma = 0\n",
    "\n",
    "for _ in range(N):\n",
    "    # Simular estado de la persona inoculada\n",
    "    inoculado_enfermo = np.random.rand() < prob_general * prob_inoculado #Utilizamos np.random.rand para definir si la persona esta enferma [1] o no esta enferma [0]\n",
    "\n",
    "    # Simular estado de la persona no inoculada\n",
    "    no_inoculado_enfermo = np.random.rand() < prob_general * prob_no_inoculado\n",
    "\n",
    "    # Verificar si al menos una persona se enferma\n",
    "    if inoculado_enfermo or no_inoculado_enfermo:\n",
    "        persona_enferma += 1\n",
    "\n",
    "\n",
    "prob = persona_enferma / N\n",
    "prob\n",
    "\n",
    "\n"
   ]
  },
  {
   "cell_type": "markdown",
   "metadata": {},
   "source": [
    "CADENAS DE MARKOV\n"
   ]
  },
  {
   "cell_type": "markdown",
   "metadata": {},
   "source": [
    "Las bases nitrogenadas fundamentales que componen el ADN son: Adenina (A), Citosina (C), Guanina (G) y\n",
    "Timina (T). Un gen se puede representar a trav´es de una secuencia ordenada de dichas bases. Suponga la\n",
    "siguiente matriz de transici´on entre bases:\n",
    "T =\n",
    "A C G T\n",
    "A 0,4 0,25 0,3 0,1\n",
    "C 0,2 0,25 0,3 0,1\n",
    "G 0,2 0,25 0,1 0,1\n",
    "T 0,2 0,25 0,3 0,7\n",
    "\n",
    "La probabilidad a priori est´a dada por π = [0,25, 0, 0,5, 0,25]."
   ]
  },
  {
   "cell_type": "markdown",
   "metadata": {},
   "source": [
    "1. Encuentre la probabilidad de obtener el gen g = [T, G, C, T, C, A, A, A]."
   ]
  },
  {
   "cell_type": "code",
   "execution_count": 311,
   "metadata": {},
   "outputs": [],
   "source": [
    "T = [[0.4,0.25,0.3,0.1],\n",
    "     [0.2,0.25,0.3,0.1],\n",
    "     [0.2,0.25,0.1,0.1],\n",
    "     [0.2,0.25,0.3,0.7]]\n",
    "\n",
    "priori = [0.25,0,0.5,0.25]\n",
    "\n",
    "GEN_G = [\"T\",\"G\",\"C\",\"T\",\"C\",\"A\",\"A\",\"A\"]\n",
    "\n"
   ]
  },
  {
   "cell_type": "code",
   "execution_count": 313,
   "metadata": {},
   "outputs": [],
   "source": [
    "def ADN_numero (letra:str):\n",
    "    \n",
    "    if letra == \"A\":\n",
    "        n = 0\n",
    "    elif letra == \"C\":\n",
    "        n = 1\n",
    "    elif letra == \"G\":\n",
    "        n = 2\n",
    "    elif letra == \"T\":\n",
    "        n = 3\n",
    "    return n"
   ]
  },
  {
   "cell_type": "code",
   "execution_count": 314,
   "metadata": {},
   "outputs": [],
   "source": [
    "def prob_gen_g (cadena_ADN: list):\n",
    "    prob = priori[ADN_numero(cadena_ADN[0])]\n",
    "    for i in range (len(cadena_ADN)-1):\n",
    "        prob = prob*T[ADN_numero(cadena_ADN[i+1])][ADN_numero(cadena_ADN[i])]\n",
    "    return prob\n",
    "\n"
   ]
  },
  {
   "cell_type": "code",
   "execution_count": 315,
   "metadata": {},
   "outputs": [
    {
     "data": {
      "text/plain": [
       "7.500000000000001e-06"
      ]
     },
     "execution_count": 315,
     "metadata": {},
     "output_type": "execute_result"
    }
   ],
   "source": [
    "prob_g= prob_gen_g(ADN)\n",
    "prob_g"
   ]
  },
  {
   "cell_type": "markdown",
   "metadata": {},
   "source": [
    "2. Estas bases nitrogenadas pasar´an por un proceso de traducci´on donde el objetivo es que se traduzcan\n",
    "A − U,C − G,G − C, T − A seg´un la siguiente matriz de emisi´on\n",
    "E =\n",
    "A C G T\n",
    "U 0,8 0 0 0,2\n",
    "G 0,05 0,9 0,1 0,1\n",
    "C 0,05 0,1 0,9 0\n",
    "A 0,1 0 0 0,7\n",
    "\n",
    "Si un gen traducido est´a dado por gT = [A,C, G, A, G,U,U,U], ¿cual es la probabilidad de que venga\n",
    "del gen g anterior?"
   ]
  },
  {
   "cell_type": "code",
   "execution_count": 316,
   "metadata": {},
   "outputs": [],
   "source": [
    "E = [[0.8,  0,    0,   0.2],\n",
    "     [0.05, 0.9,  0.1, 0.1],\n",
    "     [0.05, 0.1,  0.9, 0  ],\n",
    "     [0.1,  0,    0,   0.7]]\n",
    "\n",
    "GEN_GT = [\"A\",\"C\",\"G\",\"A\",\"G\",\"U\",\"U\",\"U\"]"
   ]
  },
  {
   "cell_type": "code",
   "execution_count": 317,
   "metadata": {},
   "outputs": [],
   "source": [
    "def ADN_traducido_numero (letra:str):\n",
    "    \n",
    "    if letra == \"U\":\n",
    "        n = 0\n",
    "    elif letra == \"G\":\n",
    "        n = 1\n",
    "    elif letra == \"C\":\n",
    "        n = 2\n",
    "    elif letra == \"A\":\n",
    "        n = 3\n",
    "    return n"
   ]
  },
  {
   "cell_type": "code",
   "execution_count": 335,
   "metadata": {},
   "outputs": [],
   "source": [
    "def prob_gen_gT (cadena_ADN: list, cadena_traducida: list ):\n",
    "    prob = priori[ADN_numero(cadena_ADN[0])]\n",
    "    for i in range (len(cadena_traducida)-1):\n",
    "        prob = prob*E[ADN_traducido_numero(cadena_traducida[i])][ADN_numero(cadena_ADN[i])]*T[ADN_numero(cadena_ADN[i+1])][ADN_numero(cadena_ADN[i])]\n",
    "    return prob\n",
    "\n"
   ]
  },
  {
   "cell_type": "code",
   "execution_count": 336,
   "metadata": {},
   "outputs": [
    {
     "data": {
      "text/plain": [
       "1.7146080000000005e-06"
      ]
     },
     "execution_count": 336,
     "metadata": {},
     "output_type": "execute_result"
    }
   ],
   "source": [
    "prob_gt= prob_gen_gT(GEN_G,GEN_GT)\n",
    "prob_gt"
   ]
  }
 ],
 "metadata": {
  "kernelspec": {
   "display_name": "Python 3",
   "language": "python",
   "name": "python3"
  },
  "language_info": {
   "codemirror_mode": {
    "name": "ipython",
    "version": 3
   },
   "file_extension": ".py",
   "mimetype": "text/x-python",
   "name": "python",
   "nbconvert_exporter": "python",
   "pygments_lexer": "ipython3",
   "version": "3.9.7"
  }
 },
 "nbformat": 4,
 "nbformat_minor": 2
}
