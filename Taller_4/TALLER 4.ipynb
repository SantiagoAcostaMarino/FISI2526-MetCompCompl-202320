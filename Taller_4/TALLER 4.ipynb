{
 "cells": [
  {
   "cell_type": "code",
   "execution_count": 111,
   "metadata": {},
   "outputs": [],
   "source": [
    "import numpy as np\n",
    "\n",
    "import sympy as sym"
   ]
  },
  {
   "cell_type": "markdown",
   "metadata": {},
   "source": [
    "Calculo de probabilidad"
   ]
  },
  {
   "cell_type": "markdown",
   "metadata": {},
   "source": [
    "1)Se reparten cartas, una a la vez, de una baraja de 52 cartas."
   ]
  },
  {
   "cell_type": "code",
   "execution_count": 112,
   "metadata": {},
   "outputs": [],
   "source": [
    "def prob_espada (sacadas,por_sacar):\n",
    "    N = 1000000\n",
    "    espadas = np.arange(1, 14) #Creamos las cartas que acturaran como el palo de espadas\n",
    "    todas_espadas_1 = 0  #Probabilidad de que las cartas sean espadas con el primer numero de cartas sacadas\n",
    "    todas_espadas_2 = 0 #Probabilidad de que las cartas sean espadas con el resto de cartas sacadas\n",
    "\n",
    "\n",
    "    for _ in range(N):\n",
    "        cartas = np.arange(1, 53)\n",
    "        np.random.shuffle(cartas)\n",
    "        cartas_tomadas_1 = cartas[:sacadas]\n",
    "        cartas_tomadas_2 = cartas[:(sacadas+por_sacar)]\n",
    "\n",
    "        todas_espadas_1 += sum(1 for carta in cartas_tomadas_1 if carta in espadas) == sacadas\n",
    "        todas_espadas_2 += sum(1 for carta in cartas_tomadas_2 if carta in espadas) == (sacadas+por_sacar)\n",
    "        \n",
    "\n",
    "    prob_1 = todas_espadas_1 / N\n",
    "    prob_2 = todas_espadas_2 / N\n",
    "    prob_total = prob_2/prob_1\n",
    "    return prob_total\n",
    "\n",
    "\n"
   ]
  },
  {
   "cell_type": "markdown",
   "metadata": {},
   "source": []
  },
  {
   "cell_type": "markdown",
   "metadata": {},
   "source": [
    "a) Si las primeras 2 cartas son espadas, ¿cual es la probabilidad de que las siguientes 3 cartas tambien\n",
    "sean espadas?\n"
   ]
  },
  {
   "cell_type": "code",
   "execution_count": 113,
   "metadata": {},
   "outputs": [],
   "source": [
    "prob_a = prob_espada (2,3)\n",
    "prob_a"
   ]
  },
  {
   "cell_type": "markdown",
   "metadata": {},
   "source": [
    "b) Si las primeras 3 cartas son todas de espadas, ¿cual es la probabilidad de que las 2 cartas siguientes\n",
    "sean tambien espadas?\n"
   ]
  },
  {
   "cell_type": "code",
   "execution_count": null,
   "metadata": {},
   "outputs": [
    {
     "ename": "KeyboardInterrupt",
     "evalue": "",
     "output_type": "error",
     "traceback": [
      "\u001b[1;31m---------------------------------------------------------------------------\u001b[0m",
      "\u001b[1;31mKeyboardInterrupt\u001b[0m                         Traceback (most recent call last)",
      "\u001b[1;32mc:\\Users\\windows 10\\Downloads\\TALLER 4.ipynb Cell 9\u001b[0m line \u001b[0;36m1\n\u001b[1;32m----> <a href='vscode-notebook-cell:/c%3A/Users/windows%2010/Downloads/TALLER%204.ipynb#X11sZmlsZQ%3D%3D?line=0'>1</a>\u001b[0m prob_b \u001b[39m=\u001b[39m prob_espada (\u001b[39m3\u001b[39;49m,\u001b[39m2\u001b[39;49m)\n\u001b[0;32m      <a href='vscode-notebook-cell:/c%3A/Users/windows%2010/Downloads/TALLER%204.ipynb#X11sZmlsZQ%3D%3D?line=1'>2</a>\u001b[0m prob_b\n",
      "\u001b[1;32mc:\\Users\\windows 10\\Downloads\\TALLER 4.ipynb Cell 9\u001b[0m line \u001b[0;36m9\n\u001b[0;32m      <a href='vscode-notebook-cell:/c%3A/Users/windows%2010/Downloads/TALLER%204.ipynb#X11sZmlsZQ%3D%3D?line=4'>5</a>\u001b[0m todas_espadas_2 \u001b[39m=\u001b[39m \u001b[39m0\u001b[39m \u001b[39m#Probabilidad de que las cartas sean espadas con el resto de cartas sacadas\u001b[39;00m\n\u001b[0;32m      <a href='vscode-notebook-cell:/c%3A/Users/windows%2010/Downloads/TALLER%204.ipynb#X11sZmlsZQ%3D%3D?line=7'>8</a>\u001b[0m \u001b[39mfor\u001b[39;00m _ \u001b[39min\u001b[39;00m \u001b[39mrange\u001b[39m(N):\n\u001b[1;32m----> <a href='vscode-notebook-cell:/c%3A/Users/windows%2010/Downloads/TALLER%204.ipynb#X11sZmlsZQ%3D%3D?line=8'>9</a>\u001b[0m     cartas \u001b[39m=\u001b[39m np\u001b[39m.\u001b[39marange(\u001b[39m1\u001b[39m, \u001b[39m53\u001b[39m)\n\u001b[0;32m     <a href='vscode-notebook-cell:/c%3A/Users/windows%2010/Downloads/TALLER%204.ipynb#X11sZmlsZQ%3D%3D?line=9'>10</a>\u001b[0m     np\u001b[39m.\u001b[39mrandom\u001b[39m.\u001b[39mshuffle(cartas)\n\u001b[0;32m     <a href='vscode-notebook-cell:/c%3A/Users/windows%2010/Downloads/TALLER%204.ipynb#X11sZmlsZQ%3D%3D?line=10'>11</a>\u001b[0m     cartas_tomadas_1 \u001b[39m=\u001b[39m cartas[:sacadas]\n",
      "\u001b[1;31mKeyboardInterrupt\u001b[0m: "
     ]
    }
   ],
   "source": [
    "prob_b = prob_espada (3,2)\n",
    "prob_b"
   ]
  },
  {
   "cell_type": "markdown",
   "metadata": {},
   "source": [
    "c) Si las primeras 4 cartas son todas de espadas, ¿cual es la probabilidad de que la siguiente carta sea\n",
    "tambien una espada?\n"
   ]
  },
  {
   "cell_type": "code",
   "execution_count": null,
   "metadata": {},
   "outputs": [
    {
     "data": {
      "text/plain": [
       "0.19214639725505148"
      ]
     },
     "execution_count": 5,
     "metadata": {},
     "output_type": "execute_result"
    }
   ],
   "source": [
    "prob_c = prob_espada (4,1)\n",
    "prob_c"
   ]
  },
  {
   "cell_type": "markdown",
   "metadata": {},
   "source": [
    "2. Suponga que la probabilidad de exposicion a la gripe durante una epidemia es .6. La experiencia ha\n",
    "demostrado que un suero tiene 80 % de exito para prevenir que una persona inoculada contraiga la gripe\n",
    "si se expone a ella. Una persona no inoculada enfrenta una probabilidad de ,90 de contraer la gripe si se\n",
    "expone a ella. Dos personas, una inoculada y otra no, realizan un trabajo altamente especializado en un\n",
    "negocio. Suponga que no est´an en el mismo lugar, no estan en contacto con las mismas personas y no\n",
    "pueden contagiarse entre sı a la gripe. ¿Cu´al es la probabilidad de que al menos una de ellas se enferme?\n"
   ]
  },
  {
   "cell_type": "code",
   "execution_count": null,
   "metadata": {},
   "outputs": [
    {
     "data": {
      "text/plain": [
       "0.59873"
      ]
     },
     "execution_count": 6,
     "metadata": {},
     "output_type": "execute_result"
    }
   ],
   "source": [
    "N = 100000\n",
    "\n",
    "prob_general = 0.6\n",
    "\n",
    "# Probabilidad de no contraer la gripe si se está inoculado\n",
    "prob_inoculado = (1-0.8)\n",
    "\n",
    "# Probabilidad de contraer la gripe si no se está inoculado\n",
    "prob_no_inoculado = 0.9\n",
    "\n",
    "persona_enferma = 0\n",
    "\n",
    "persona_vacuna= np.array([1,0,0]*N)\n",
    "\n",
    "persona_sinvacuna= np.array([0,0,0]*N)\n",
    "\n",
    "\n",
    "\n",
    "\n",
    "\n",
    "\n",
    "\n",
    "\n",
    "\n",
    "\n",
    "for _ in range(N):\n",
    "    # Simular estado de la persona inoculada\n",
    "    inoculado_enfermo = np.random.rand() < prob_general * prob_inoculado #Utilizamos np.random.rand para definir si la persona esta enferma [1] o no esta enferma [0]\n",
    "\n",
    "    # Simular estado de la persona no inoculada\n",
    "    no_inoculado_enfermo = np.random.rand() < prob_general * prob_no_inoculado\n",
    "\n",
    "    # Verificar si al menos una persona se enferma\n",
    "    if inoculado_enfermo or no_inoculado_enfermo:\n",
    "        persona_enferma += 1\n",
    "\n",
    "\n",
    "prob = persona_enferma / N\n",
    "prob\n",
    "\n",
    "\n"
   ]
  },
  {
   "cell_type": "markdown",
   "metadata": {},
   "source": [
    "2.\n",
    "El muestreo de piezas defectuosas de grandes lotes de productos manufacturados da un n´umero de\n",
    "piezas defectuosas, Y , que sigue una distribuci´on de probabilidad binomial. Un plan de muestreo consiste\n",
    "en especificar el n´umero de piezas n por incluirse en una muestra y un n´umero de aceptaci´on a. El\n",
    "lote es aceptado si Y ≤ a y rechazado si Y > a. Denote con p la proporci´on de piezas defectuosas del\n",
    "lote. Un ingeniero de control de calidad desea estudiar planes de muestreo alternativos: n = 5, a = 1 y\n",
    "n = 25, a = 5. Construya las curvas caracter´ısticas de operaci´on para ambos planes, haciendo uso de\n",
    "probabilidades de aceptaci´on en el rango p ∈ [0, 1].\n",
    "a) Si usted fuera un vendedor que produce lotes con una fracci´on defectuosa que va de p = 0ap = ,10,\n",
    "¿cu´al de los dos planes de muestreo preferir´ıa?\n",
    "b) Si usted fuera un comprador que desea protegerse contra la aceptaci´on de lotes con una fracci´on\n",
    "defectuosa que exceda de p = ,30, ¿cu´al de los dos planes de muestreo preferir´ıa?\n",
    "\n"
   ]
  },
  {
   "cell_type": "code",
   "execution_count": null,
   "metadata": {},
   "outputs": [],
   "source": []
  },
  {
   "cell_type": "markdown",
   "metadata": {},
   "source": [
    "a) Encuentre el menor valor de n tal que la probabilidad de que haya al menos n desconexiones en\n",
    "menos de un per´ıodo de 4 horas es menor que 0.01.\n"
   ]
  },
  {
   "cell_type": "code",
   "execution_count": null,
   "metadata": {},
   "outputs": [
    {
     "name": "stdout",
     "output_type": "stream",
     "text": [
      "este es el maximo 8\n",
      "5\n"
     ]
    }
   ],
   "source": [
    "N=int(1e5)\n",
    "coso= np.random.poisson(1,N)\n",
    "maximo=max(coso)\n",
    "print(\"este es el maximo\",maximo)\n",
    "for i in range(maximo+1):\n",
    "        muestra=0\n",
    "        for j in coso:\n",
    "            if j>=i :\n",
    "                muestra+=1\n",
    "                \n",
    "        if (muestra/N)<0.01 :\n",
    "            numerito=i\n",
    "            break    \n",
    "print(numerito)"
   ]
  },
  {
   "cell_type": "markdown",
   "metadata": {},
   "source": [
    "b) Encuentre el menor valor del n´umero de horas h tal que la probabilidad de que no haya desconexiones\n",
    "en h horas sea menor que 0.02."
   ]
  },
  {
   "cell_type": "code",
   "execution_count": null,
   "metadata": {},
   "outputs": [
    {
     "data": {
      "text/plain": [
       "16"
      ]
     },
     "execution_count": 105,
     "metadata": {},
     "output_type": "execute_result"
    }
   ],
   "source": [
    "N=10000\n",
    "menor = N + 1\n",
    "for h in range(N + 1):\n",
    "        # Como queremos cero desconexiones, en la expresión de Poisson tendríamos x=0.\n",
    "        # Y como lo queremos en h horas, entonces tomamos lambda=1/4 y lo multiplicamos por h.\n",
    "    prob_cero_h = np.exp(-(h/4))\n",
    "    if prob_cero_h <= 0.02:\n",
    "        menor = h\n",
    "        break \n",
    "menor"
   ]
  },
  {
   "cell_type": "markdown",
   "metadata": {},
   "source": [
    "c) Encuentre la probabilidad de que en 3 per´ıodos consecutivos de 4 horas, haya solamente un per´ıodo\n",
    "de 4 horas sin desconexiones"
   ]
  },
  {
   "cell_type": "code",
   "execution_count": null,
   "metadata": {},
   "outputs": [
    {
     "data": {
      "text/plain": [
       "0.4411181923000829"
      ]
     },
     "execution_count": 62,
     "metadata": {},
     "output_type": "execute_result"
    }
   ],
   "source": [
    "#Vamos a tomar la probabilidad de que salga 0 y la vamos a multiplicar por la probabilidad \n",
    "#de que salga el resto de numeros menos el 0 al cuadrado\n",
    "#luego la multiplicamos por 3 por las tres posiciones posibles\n",
    "N=100000\n",
    "muestra=0\n",
    "coso= np.random.poisson(1,N)\n",
    "for i in coso:\n",
    "    if i == 0:\n",
    "        muestra+=1\n",
    "probabilidad_0=muestra/N\n",
    "probabilidad_a=1-probabilidad_0\n",
    "\n",
    "probabilidad_U=probabilidad_0*probabilidad_a*probabilidad_a\n",
    "probabilidad_T=3*probabilidad_U\n",
    "probabilidad_T\n"
   ]
  },
  {
   "cell_type": "markdown",
   "metadata": {},
   "source": [
    "d) Encuentre la probabilidad de que el n´umero de desconexiones en 3 per´ıodos consecutivos de 4 horas\n",
    "sea igual al n´umero esperaod de desconexiones en 3 per´ıodos consecutivos de 4 horas.\n"
   ]
  },
  {
   "cell_type": "code",
   "execution_count": null,
   "metadata": {},
   "outputs": [
    {
     "data": {
      "text/plain": [
       "0.22342"
      ]
     },
     "execution_count": 97,
     "metadata": {},
     "output_type": "execute_result"
    }
   ],
   "source": [
    "N=100000\n",
    "muestra=0\n",
    "coso= np.random.poisson(3,N)\n",
    "for i in coso:\n",
    "    if i == 3:\n",
    "        muestra+=1\n",
    "probabilidad_1=muestra/N\n",
    "probabilidad_1\n"
   ]
  },
  {
   "cell_type": "markdown",
   "metadata": {},
   "source": [
    "3. Distribuciones de probabilidad continuas"
   ]
  },
  {
   "cell_type": "markdown",
   "metadata": {},
   "source": [
    "1. Suponga que el error en la temperatura en un experimento controlado de laboratorio es una variable\n",
    "aleatoria continua X, que tiene la siguiente funci´on de densidad de probabilidad:"
   ]
  },
  {
   "cell_type": "markdown",
   "metadata": {},
   "source": [
    "f(x) = (x^2)/3 −1 ≤ x ≤ 2 \n"
   ]
  },
  {
   "cell_type": "markdown",
   "metadata": {},
   "source": [
    "0 ≤ en otro caso"
   ]
  },
  {
   "cell_type": "code",
   "execution_count": null,
   "metadata": {},
   "outputs": [
    {
     "data": {
      "text/latex": [
       "$\\displaystyle 1$"
      ],
      "text/plain": [
       "1"
      ]
     },
     "execution_count": 9,
     "metadata": {},
     "output_type": "execute_result"
    }
   ],
   "source": [
    "x=sym.symbols(\"x\")\n",
    "f=(x**2)/3\n",
    "sym.integrate(f,(x,-1,2))"
   ]
  },
  {
   "cell_type": "code",
   "execution_count": null,
   "metadata": {},
   "outputs": [
    {
     "name": "stdout",
     "output_type": "stream",
     "text": [
      "1/9 7/9\n"
     ]
    }
   ],
   "source": [
    "P_1=sym.integrate(f,(x,0,1))\n",
    "P_2=sym.integrate(f,(x,1,2))\n",
    "print(P_1,P_2)"
   ]
  },
  {
   "cell_type": "markdown",
   "metadata": {},
   "source": [
    "2. Se supone que las calificaciones de un examen est´an normalmente distribuidas con media 78 y varianza\n",
    "de 36."
   ]
  },
  {
   "cell_type": "code",
   "execution_count": null,
   "metadata": {},
   "outputs": [],
   "source": []
  },
  {
   "cell_type": "markdown",
   "metadata": {},
   "source": [
    "CADENAS DE MARKOV\n"
   ]
  },
  {
   "cell_type": "markdown",
   "metadata": {},
   "source": [
    "Las bases nitrogenadas fundamentales que componen el ADN son: Adenina (A), Citosina (C), Guanina (G) y\n",
    "Timina (T). Un gen se puede representar a trav´es de una secuencia ordenada de dichas bases. Suponga la\n",
    "siguiente matriz de transici´on entre bases:\n",
    "T =\n",
    "A C G T\n",
    "A 0,4 0,25 0,3 0,1\n",
    "C 0,2 0,25 0,3 0,1\n",
    "G 0,2 0,25 0,1 0,1\n",
    "T 0,2 0,25 0,3 0,7\n",
    "\n",
    "La probabilidad a priori est´a dada por π = [0,25, 0, 0,5, 0,25]."
   ]
  },
  {
   "cell_type": "markdown",
   "metadata": {},
   "source": [
    "1. Encuentre la probabilidad de obtener el gen g = [T, G, C, T, C, A, A, A]."
   ]
  },
  {
   "cell_type": "code",
   "execution_count": null,
   "metadata": {},
   "outputs": [],
   "source": [
    "T = [[0.4,0.25,0.3,0.1],\n",
    "     [0.2,0.25,0.3,0.1],\n",
    "     [0.2,0.25,0.1,0.1],\n",
    "     [0.2,0.25,0.3,0.7]]\n",
    "\n",
    "priori = [0.25,0,0.5,0.25]\n",
    "\n",
    "GEN_G = [\"T\",\"G\",\"C\",\"T\",\"C\",\"A\",\"A\",\"A\"]\n",
    "\n"
   ]
  },
  {
   "cell_type": "code",
   "execution_count": null,
   "metadata": {},
   "outputs": [],
   "source": [
    "def ADN_numero (letra:str):\n",
    "    \n",
    "    if letra == \"A\":\n",
    "        n = 0\n",
    "    elif letra == \"C\":\n",
    "        n = 1\n",
    "    elif letra == \"G\":\n",
    "        n = 2\n",
    "    elif letra == \"T\":\n",
    "        n = 3\n",
    "    return n"
   ]
  },
  {
   "cell_type": "code",
   "execution_count": null,
   "metadata": {},
   "outputs": [],
   "source": [
    "def prob_gen_g (cadena_ADN: list):\n",
    "    prob = priori[ADN_numero(cadena_ADN[0])]\n",
    "    for i in range (len(cadena_ADN)-1):\n",
    "        prob = prob*T[ADN_numero(cadena_ADN[i+1])][ADN_numero(cadena_ADN[i])]\n",
    "    return prob\n",
    "\n"
   ]
  },
  {
   "cell_type": "code",
   "execution_count": null,
   "metadata": {},
   "outputs": [
    {
     "data": {
      "text/plain": [
       "7.500000000000001e-06"
      ]
     },
     "execution_count": 65,
     "metadata": {},
     "output_type": "execute_result"
    }
   ],
   "source": [
    "prob_g= prob_gen_g(GEN_G)\n",
    "prob_g"
   ]
  },
  {
   "cell_type": "markdown",
   "metadata": {},
   "source": [
    "2. Estas bases nitrogenadas pasar´an por un proceso de traducci´on donde el objetivo es que se traduzcan\n",
    "A − U,C − G,G − C, T − A seg´un la siguiente matriz de emisi´on\n",
    "E =\n",
    "A C G T\n",
    "U 0,8 0 0 0,2\n",
    "G 0,05 0,9 0,1 0,1\n",
    "C 0,05 0,1 0,9 0\n",
    "A 0,1 0 0 0,7\n",
    "\n",
    "Si un gen traducido est´a dado por gT = [A,C, G, A, G,U,U,U], ¿cual es la probabilidad de que venga\n",
    "del gen g anterior?"
   ]
  },
  {
   "cell_type": "code",
   "execution_count": null,
   "metadata": {},
   "outputs": [],
   "source": [
    "E = [[0.8,  0,    0,   0.2],\n",
    "     [0.05, 0.9,  0.1, 0.1],\n",
    "     [0.05, 0.1,  0.9, 0  ],\n",
    "     [0.1,  0,    0,   0.7]]\n",
    "\n",
    "GEN_GT = [\"A\",\"C\",\"G\",\"A\",\"G\",\"U\",\"U\",\"U\"]"
   ]
  },
  {
   "cell_type": "code",
   "execution_count": null,
   "metadata": {},
   "outputs": [
    {
     "data": {
      "text/plain": [
       "8"
      ]
     },
     "execution_count": 94,
     "metadata": {},
     "output_type": "execute_result"
    }
   ],
   "source": [
    "len(GEN_GT)"
   ]
  },
  {
   "cell_type": "code",
   "execution_count": null,
   "metadata": {},
   "outputs": [],
   "source": [
    "def ADN_traducido_numero (letra:str):\n",
    "    \n",
    "    if letra == \"U\":\n",
    "        n = 0\n",
    "    elif letra == \"G\":\n",
    "        n = 1\n",
    "    elif letra == \"C\":\n",
    "        n = 2\n",
    "    elif letra == \"A\":\n",
    "        n = 3\n",
    "    return n"
   ]
  },
  {
   "cell_type": "code",
   "execution_count": null,
   "metadata": {},
   "outputs": [],
   "source": [
    "def prob_gen_gT (cadena_ADN: list, cadena_traducida: list ):\n",
    "    prob = priori[ADN_numero(cadena_ADN[0])]\n",
    "    for i in range (7):\n",
    "        prob = E[ADN_traducido_numero(cadena_traducida[i])][ADN_numero(cadena_ADN[i])]*T[ADN_numero(cadena_ADN[i+1])][ADN_numero(cadena_ADN[i])]*prob\n",
    "        print(prob)\n",
    "    return prob\n",
    "\n"
   ]
  },
  {
   "cell_type": "markdown",
   "metadata": {},
   "source": [
    "además hay que multiplicar por la probabilidad de que se duplique el gen g anterior"
   ]
  },
  {
   "cell_type": "code",
   "execution_count": null,
   "metadata": {},
   "outputs": [
    {
     "name": "stdout",
     "output_type": "stream",
     "text": [
      "0.017499999999999998\n",
      "0.004725\n",
      "0.001063125\n",
      "7.441874999999999e-05\n",
      "1.6744218749999998e-05\n",
      "5.3581500000000005e-06\n",
      "1.7146080000000005e-06\n"
     ]
    },
    {
     "data": {
      "text/plain": [
       "1.7146080000000005e-06"
      ]
     },
     "execution_count": 110,
     "metadata": {},
     "output_type": "execute_result"
    }
   ],
   "source": [
    "prob_gt= prob_gen_gT(GEN_G,GEN_GT)\n",
    "prob_gt\n"
   ]
  }
 ],
 "metadata": {
  "kernelspec": {
   "display_name": "Python 3",
   "language": "python",
   "name": "python3"
  },
  "language_info": {
   "codemirror_mode": {
    "name": "ipython",
    "version": 3
   },
   "file_extension": ".py",
   "mimetype": "text/x-python",
   "name": "python",
   "nbconvert_exporter": "python",
   "pygments_lexer": "ipython3",
   "version": "3.11.6"
  }
 },
 "nbformat": 4,
 "nbformat_minor": 2
}
